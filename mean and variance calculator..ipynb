{
 "cells": [
  {
   "cell_type": "code",
   "execution_count": 2,
   "id": "ccff6e81",
   "metadata": {},
   "outputs": [
    {
     "name": "stdout",
     "output_type": "stream",
     "text": [
      "{'mean': [[3.0, 4.0, 5.0], [1.0, 4.0, 7.0], 4.0], 'variance': [[6.0, 6.0, 6.0], [0.6666666666666666, 0.6666666666666666, 0.6666666666666666], 6.666666666666667], 'standard deviation': [[2.449489742783178, 2.449489742783178, 2.449489742783178], [0.816496580927726, 0.816496580927726, 0.816496580927726], 2.581988897471611], 'max': [[6, 7, 8], [2, 5, 8], 8], 'min': [[0, 1, 2], [0, 3, 6], 0], 'sum': [[9, 12, 15], [3, 12, 21], 36]}\n"
     ]
    }
   ],
   "source": [
    "import numpy as np\n",
    "\n",
    "def Calculate(input_list):\n",
    "    if len(input_list) != 9:\n",
    "        raise ValueError(\"List must contain nine numbers.\")\n",
    "    \n",
    "    list_ = np.array(input_list).reshape((3, 3))\n",
    "    \n",
    "    calculations = {}\n",
    "    \n",
    "    calculations['mean'] = [list_.mean(axis=0).tolist(), list_.mean(axis=1).tolist(), np.mean(list_).tolist()]\n",
    "    calculations['variance'] = [list_.var(axis=0).tolist(), list_.var(axis=1).tolist(), np.var(list_).tolist()]\n",
    "    calculations['standard deviation'] = [list_.std(axis=0).tolist(), list_.std(axis=1).tolist(), np.std(list_).tolist()]\n",
    "    calculations['max'] = [list_.max(axis=0).tolist(), list_.max(axis=1).tolist(), np.max(list_).tolist()]\n",
    "    calculations['min'] = [list_.min(axis=0).tolist(), list_.min(axis=1).tolist(), np.min(list_).tolist()]\n",
    "    calculations['sum'] = [list_.sum(axis=0).tolist(), list_.sum(axis=1).tolist(), np.sum(list_).tolist()]\n",
    "    \n",
    "    return calculations\n",
    "\n",
    "print(Calculate([0, 1, 2, 3, 4, 5, 6, 7, 8]))\n"
   ]
  },
  {
   "cell_type": "code",
   "execution_count": 4,
   "id": "c174fbba",
   "metadata": {},
   "outputs": [
    {
     "ename": "NameError",
     "evalue": "name 'input_list' is not defined",
     "output_type": "error",
     "traceback": [
      "\u001b[1;31m---------------------------------------------------------------------------\u001b[0m",
      "\u001b[1;31mNameError\u001b[0m                                 Traceback (most recent call last)",
      "Cell \u001b[1;32mIn[4], line 1\u001b[0m\n\u001b[1;32m----> 1\u001b[0m \u001b[43minput_list\u001b[49m\n",
      "\u001b[1;31mNameError\u001b[0m: name 'input_list' is not defined"
     ]
    }
   ],
   "source": []
  },
  {
   "cell_type": "code",
   "execution_count": null,
   "id": "9a2dd9ed",
   "metadata": {},
   "outputs": [],
   "source": []
  }
 ],
 "metadata": {
  "kernelspec": {
   "display_name": "Python 3 (ipykernel)",
   "language": "python",
   "name": "python3"
  },
  "language_info": {
   "codemirror_mode": {
    "name": "ipython",
    "version": 3
   },
   "file_extension": ".py",
   "mimetype": "text/x-python",
   "name": "python",
   "nbconvert_exporter": "python",
   "pygments_lexer": "ipython3",
   "version": "3.10.9"
  }
 },
 "nbformat": 4,
 "nbformat_minor": 5
}
